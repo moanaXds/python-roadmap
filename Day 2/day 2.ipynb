{
 "cells": [
  {
   "cell_type": "code",
   "execution_count": 42,
   "id": "e90a835e-e955-425c-87d8-00e68f5ff946",
   "metadata": {},
   "outputs": [
    {
     "name": "stdin",
     "output_type": "stream",
     "text": [
      " Enter your name asd\n",
      " Enter your age 12\n",
      " Enter your favorite subject sdf\n"
     ]
    },
    {
     "name": "stdout",
     "output_type": "stream",
     "text": [
      "my name isasd  , i am 12, year old and my favorite subject is sdf\n"
     ]
    }
   ],
   "source": [
    "# q1\n",
    "\n",
    "name = input(\" Enter your name\")\n",
    "age = int( input(\" Enter your age\" ))\n",
    "subject = input( \" Enter your favorite subject\")\n",
    "print(f\"my name is{name}  , i am {age}, year old and my favorite subject is {subject}\")"
   ]
  },
  {
   "cell_type": "code",
   "execution_count": 41,
   "id": "3510d744-44be-48a4-965e-d8fe0a9ee01a",
   "metadata": {},
   "outputs": [
    {
     "name": "stdout",
     "output_type": "stream",
     "text": [
      "7.5\n",
      "Hello Python\n",
      "PythonPythonPythonPythonPython\n"
     ]
    }
   ],
   "source": [
    "# q2\n",
    "\n",
    "a=5\n",
    "b=2.5\n",
    "c=\"Python\"\n",
    "print(a+b)\n",
    "print(\"Hello \"+ c )\n",
    "print(a*c)\n"
   ]
  },
  {
   "cell_type": "code",
   "execution_count": 43,
   "id": "be95a7f7-dcac-4e34-83fc-599a9da9d5b6",
   "metadata": {},
   "outputs": [
    {
     "name": "stdin",
     "output_type": "stream",
     "text": [
      "Enter first value : 2\n",
      "Enter 2nd value : 3\n",
      "Enter 3rd value : 1\n"
     ]
    },
    {
     "name": "stdout",
     "output_type": "stream",
     "text": [
      "x // y\n",
      " 0\n",
      "int(x / y)\n",
      " 0\n",
      "x / y\n",
      " 0.6666666666666666\n",
      "z + x\n",
      " 3\n",
      "True\n",
      "True\n",
      "False\n",
      "True\n"
     ]
    }
   ],
   "source": [
    "# q3\n",
    "\n",
    "x=int(input(\"Enter first value :\"))\n",
    "y=int(input(\"Enter 2nd value :\"))\n",
    "z=int(input(\"Enter 3rd value :\"))\n",
    "\n",
    "print(\"x // y\\n\" ,x // y) #return integer neglect value after decimal  \n",
    "print(\"int(x / y)\\n\" ,int(x / y)) # return float later typecasted to int\n",
    "print(\"x / y\\n\" ,x / y)   #return float\n",
    "print(\"z + x\\n\" ,z + x)\n",
    "\n",
    "print(isinstance(x // y,int))\n",
    "print(isinstance(int(x / y),int))\n",
    "print(isinstance(x / y,int))\n",
    "print(isinstance(z + x,int))\n"
   ]
  },
  {
   "cell_type": "code",
   "execution_count": 44,
   "id": "09d0d4d8-b48e-407f-8411-f4392550fe5e",
   "metadata": {},
   "outputs": [
    {
     "name": "stdin",
     "output_type": "stream",
     "text": [
      "Enter first value : 12\n",
      "Enter 2nd value : 22\n"
     ]
    },
    {
     "name": "stdout",
     "output_type": "stream",
     "text": [
      "Invalid Input\n"
     ]
    }
   ],
   "source": [
    "# q4\n",
    "\n",
    "x= int(input(\"Enter first value :\"))\n",
    "y= int(input(\"Enter 2nd value :\"))\n",
    "\n",
    "if(isinstance(x,int) and isinstance(y,int)):  #if((type(x) is int) and (type(y) is int))\n",
    "    if(x//y == x/y):\n",
    "        print(\"whether x // y is equal to int(x / y).\")\n",
    "        \n",
    "    if(y*(x//y)==x):\n",
    "        print(\"Not divisible\")\n",
    "        \n",
    "if(isinstance(x,float) or isinstance(y,float) ):\n",
    "    x=int(x)\n",
    "    y=int(y)\n",
    "    print(\"sum \", x+y)\n",
    "    \n",
    "else:\n",
    "    print(\"Invalid Input\")\n",
    "        "
   ]
  },
  {
   "cell_type": "code",
   "execution_count": 39,
   "id": "63e69b3e-08d6-4a0a-a085-15b3cbc0c5eb",
   "metadata": {},
   "outputs": [
    {
     "name": "stdin",
     "output_type": "stream",
     "text": [
      "Enter an integer :  6\n"
     ]
    },
    {
     "name": "stdout",
     "output_type": "stream",
     "text": [
      "Beautiful\n"
     ]
    }
   ],
   "source": [
    "# q5\n",
    "\n",
    "num = int( input(\"Enter an integer : \"))\n",
    "if(num> 0 and num//2 == num/2):\n",
    "    print (\"Beautiful\")\n",
    "elif(num>0 and num//2!=num/2):\n",
    "    print (\"Not Beatiful\")\n",
    "elif(num<0):\n",
    "    print(\"UgLY\")"
   ]
  },
  {
   "cell_type": "code",
   "execution_count": 26,
   "id": "7681d88c-e726-4e30-b3ed-d374778f4037",
   "metadata": {},
   "outputs": [
    {
     "name": "stdin",
     "output_type": "stream",
     "text": [
      "Enter number 1 2\n",
      "Enter number 2 3\n",
      "Enter number 3 4\n",
      "Enter number 4 5\n"
     ]
    },
    {
     "name": "stdout",
     "output_type": "stream",
     "text": [
      "\n",
      "The largest number is :  5\n",
      "\n",
      "The smallest number is :  2\n",
      "Ascending order\n"
     ]
    }
   ],
   "source": [
    "# q6\n",
    "\n",
    "num1=int( input(\"Enter number 1\") )\n",
    "num2=int( input(\"Enter number 2\") )\n",
    "num3=int( input(\"Enter number 3\") )\n",
    "num4=int( input(\"Enter number 4\") )\n",
    "\n",
    "print(\"\\nThe largest number is : \", max(num1,num2,num3,num4))\n",
    "print(\"\\nThe smallest number is : \", min(num1,num2,num3,num4))\n",
    "\n",
    "if(num1== num2==num3==num4):\n",
    "    print(\"All are equal\")\n",
    "if(num1<num2 and num2<num3 and num3<num4):\n",
    "    print(\"Ascending order\")\n",
    "elif(num1>num2 and num2>num3 and num3>num4):\n",
    "    print(\"Descending Order\")"
   ]
  },
  {
   "cell_type": "code",
   "execution_count": 34,
   "id": "6205dbc4-bcab-43d2-a42e-17d0eb8bc80f",
   "metadata": {},
   "outputs": [
    {
     "name": "stdout",
     "output_type": "stream",
     "text": [
      "(4.9+5.7j)\n",
      "(-2.9-2.7j)\n",
      "(-2.400000000000001+10.05j)\n",
      "(0.3105022831050228+0.050228310502283095j)\n",
      "\n",
      "The Real part : 1.0 The Imaginary part : 1.5\n",
      "\n",
      "Conjugate of b 3.9 -4.2\n",
      "\n",
      "Magnitude of a  1.8027756377319946\n"
     ]
    }
   ],
   "source": [
    "# q7\n",
    "\n",
    "import math\n",
    "\n",
    "a= 1.0+1.5j\n",
    "b= 3.9+4.2j\n",
    "\n",
    "print(a+b)\n",
    "print(a-b)\n",
    "print(a*b)\n",
    "print(a/b)\n",
    "\n",
    "print(\"\\nThe Real part :\",a.real,\"The Imaginary part :\", a.imag)\n",
    "print(\"\\nConjugate of b\",b.real, -b.imag)\n",
    "print(\"\\nMagnitude of a \", math.sqrt(a.real**2 + a.imag**2))"
   ]
  },
  {
   "cell_type": "code",
   "execution_count": null,
   "id": "859a3b20-4253-436b-9f31-6aa661868e13",
   "metadata": {},
   "outputs": [],
   "source": []
  }
 ],
 "metadata": {
  "kernelspec": {
   "display_name": "Python 3 (ipykernel)",
   "language": "python",
   "name": "python3"
  },
  "language_info": {
   "codemirror_mode": {
    "name": "ipython",
    "version": 3
   },
   "file_extension": ".py",
   "mimetype": "text/x-python",
   "name": "python",
   "nbconvert_exporter": "python",
   "pygments_lexer": "ipython3",
   "version": "3.13.5"
  },
  "widgets": {
   "application/vnd.jupyter.widget-state+json": {
    "state": {},
    "version_major": 2,
    "version_minor": 0
   }
  }
 },
 "nbformat": 4,
 "nbformat_minor": 5
}
