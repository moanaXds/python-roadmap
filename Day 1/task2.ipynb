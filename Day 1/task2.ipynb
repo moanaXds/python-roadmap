{
  "nbformat": 4,
  "nbformat_minor": 0,
  "metadata": {
    "colab": {
      "provenance": []
    },
    "kernelspec": {
      "name": "python3",
      "display_name": "Python 3"
    },
    "language_info": {
      "name": "python"
    }
  },
  "cells": [
    {
      "cell_type": "code",
      "execution_count": null,
      "metadata": {
        "id": "7yHRqx-tliAO"
      },
      "outputs": [],
      "source": []
    },
    {
      "cell_type": "markdown",
      "source": [
        "Lab 02 - Python Programming Cont."
      ],
      "metadata": {
        "id": "Fdkqw0eNl6fN"
      }
    },
    {
      "cell_type": "markdown",
      "source": [
        "## Table of Content\n",
        "\n",
        "* Revision and Tasks\n",
        "    * Introduction to Jupyter Notebook\n",
        "    * Introduction to Python\n",
        "    * Print\n",
        "    * User Input\n",
        "    * Variables\n",
        "    * Conditional Statements\n",
        "* Data types\n",
        "* Type Casting\n",
        "* Strings\n",
        "* Zen of Python\n",
        "* Mathematical built-in functions"
      ],
      "metadata": {
        "id": "puahkXB0mUQM"
      }
    },
    {
      "cell_type": "markdown",
      "source": [
        "**Introduction**\n",
        "\n",
        "Python is a great general-purpose programming language on its own, but with the help of a few popular libraries (numpy, scipy, matplotlib) it becomes a powerful environment for scientific computing. Python is a high-level, dynamically typed multiparadigm programming language. Python code is often said to be almost like pseudocode, since it allows you to express very powerful ideas in very few lines of code while being very readable."
      ],
      "metadata": {
        "id": "MA18_2MTm0Lz"
      }
    },
    {
      "cell_type": "markdown",
      "source": [
        "##Print Statement"
      ],
      "metadata": {
        "id": "MLAa7kKHnE7x"
      }
    },
    {
      "cell_type": "code",
      "source": [
        "print('This is my first hands-on in Python :)')\n",
        "print(\"Second lab of IDS\")"
      ],
      "metadata": {
        "colab": {
          "base_uri": "https://localhost:8080/"
        },
        "id": "UBbJQ_CJmCMr",
        "outputId": "eaa89abe-a46d-4c66-8cac-935bd45dde3d"
      },
      "execution_count": 1,
      "outputs": [
        {
          "output_type": "stream",
          "name": "stdout",
          "text": [
            "This is my first hands-on in Python :)\n",
            "Second lab of IDS\n"
          ]
        }
      ]
    },
    {
      "cell_type": "code",
      "source": [
        "print('This is my {} hands-on in {} :)'.format('first', 'Python'))"
      ],
      "metadata": {
        "colab": {
          "base_uri": "https://localhost:8080/"
        },
        "id": "QmCAyHClnOy6",
        "outputId": "df768998-0dcd-4ee1-8991-8230bd64b6ff"
      },
      "execution_count": 2,
      "outputs": [
        {
          "output_type": "stream",
          "name": "stdout",
          "text": [
            "This is my first hands-on in Python :)\n"
          ]
        }
      ]
    },
    {
      "cell_type": "markdown",
      "source": [
        "##User Input"
      ],
      "metadata": {
        "id": "zCDEFFiWnXbj"
      }
    },
    {
      "cell_type": "code",
      "source": [
        "data=input\n",
        "name = input(\"Enter username:\")\n",
        "print(\"Username is: \" + name)"
      ],
      "metadata": {
        "colab": {
          "base_uri": "https://localhost:8080/"
        },
        "id": "EWqQ7jBhneAy",
        "outputId": "7ecbcc39-28ab-451a-8641-95916f304889"
      },
      "execution_count": 3,
      "outputs": [
        {
          "output_type": "stream",
          "name": "stdout",
          "text": [
            "Enter username:Palwasha Zahid\n",
            "Username is: Palwasha Zahid\n"
          ]
        }
      ]
    },
    {
      "cell_type": "markdown",
      "source": [
        "## Variables/Data types"
      ],
      "metadata": {
        "id": "9NiuplXJnpaq"
      }
    },
    {
      "cell_type": "code",
      "source": [
        "x = 1\n",
        "y = 3.5\n",
        "z = 'Programming'\n",
        "w = True\n",
        "print(x, y, z, w)"
      ],
      "metadata": {
        "colab": {
          "base_uri": "https://localhost:8080/"
        },
        "id": "KFk8Y-xxnkBp",
        "outputId": "668fbcdc-7253-4f1f-c60e-846d47f58a3c"
      },
      "execution_count": 4,
      "outputs": [
        {
          "output_type": "stream",
          "name": "stdout",
          "text": [
            "1 3.5 Programming True\n"
          ]
        }
      ]
    },
    {
      "cell_type": "code",
      "source": [
        "print(type(x), type(y), type(z), type(w))"
      ],
      "metadata": {
        "colab": {
          "base_uri": "https://localhost:8080/"
        },
        "id": "W0KVEPCCoGrM",
        "outputId": "50bb17db-1999-4229-e046-1263df49e362"
      },
      "execution_count": 5,
      "outputs": [
        {
          "output_type": "stream",
          "name": "stdout",
          "text": [
            "<class 'int'> <class 'float'> <class 'str'> <class 'bool'>\n"
          ]
        }
      ]
    },
    {
      "cell_type": "markdown",
      "source": [
        "## Arithmetic Operators"
      ],
      "metadata": {
        "id": "z_g9usN_n-hB"
      }
    },
    {
      "cell_type": "code",
      "source": [
        "print(x + 1)   # Addition\n",
        "print(x - 1)   # Subtraction\n",
        "print(x * 2)   # Multiplication\n",
        "print(x / 2)  # Division\n",
        "print(3 ** 2)  # Exponentiation"
      ],
      "metadata": {
        "colab": {
          "base_uri": "https://localhost:8080/"
        },
        "id": "54nFWjqmoL-6",
        "outputId": "da0d65b2-0f97-424e-bebc-eb5095cd5c6f"
      },
      "execution_count": 6,
      "outputs": [
        {
          "output_type": "stream",
          "name": "stdout",
          "text": [
            "2\n",
            "0\n",
            "2\n",
            "0.5\n",
            "9\n"
          ]
        }
      ]
    },
    {
      "cell_type": "code",
      "source": [
        "x += 1\n",
        "print(x)\n",
        "\n",
        "x *= 2\n",
        "print(x)"
      ],
      "metadata": {
        "colab": {
          "base_uri": "https://localhost:8080/"
        },
        "id": "vusy-d2zoRxR",
        "outputId": "27942fdb-343c-43d3-8e1a-1a6ac6cf7d5f"
      },
      "execution_count": 7,
      "outputs": [
        {
          "output_type": "stream",
          "name": "stdout",
          "text": [
            "2\n",
            "4\n"
          ]
        }
      ]
    },
    {
      "cell_type": "code",
      "source": [
        "import math\n",
        "\n",
        "x=100\n",
        "y=math.sqrt(x)\n",
        "print(y)"
      ],
      "metadata": {
        "colab": {
          "base_uri": "https://localhost:8080/"
        },
        "id": "F10hd0Z_oT2A",
        "outputId": "49bdbc9a-81af-455b-a4d0-628e0adae787"
      },
      "execution_count": 8,
      "outputs": [
        {
          "output_type": "stream",
          "name": "stdout",
          "text": [
            "10.0\n"
          ]
        }
      ]
    },
    {
      "cell_type": "markdown",
      "source": [
        "## Boolean Operators"
      ],
      "metadata": {
        "id": "BCtHyjPhoZQw"
      }
    },
    {
      "cell_type": "code",
      "source": [
        "t, f = True, False\n",
        "\n",
        "print(t and f) # Logical AND\n",
        "print(t or f)  # Logical OR\n",
        "print(not t)   # Logical NOT\n",
        "print(t != f)  # Logical XOR"
      ],
      "metadata": {
        "colab": {
          "base_uri": "https://localhost:8080/"
        },
        "id": "yB5NXFfWobQT",
        "outputId": "2756c081-acb6-451c-885e-b82cecaaa167"
      },
      "execution_count": 9,
      "outputs": [
        {
          "output_type": "stream",
          "name": "stdout",
          "text": [
            "False\n",
            "True\n",
            "False\n",
            "True\n"
          ]
        }
      ]
    },
    {
      "cell_type": "markdown",
      "source": [
        "# Data Types\n",
        "Python is a dynamically typed language, so we do not need to specify the type of a variable when we create one.\n"
      ],
      "metadata": {
        "id": "GnraWesRotXo"
      }
    },
    {
      "cell_type": "code",
      "source": [
        "x=1.2\n",
        "print(type(x))\n",
        "\n",
        "#If we assign a new value to a variable, its type can change.\n",
        "x=3\n",
        "print(type(x))"
      ],
      "metadata": {
        "colab": {
          "base_uri": "https://localhost:8080/"
        },
        "id": "KohNmrx_oyQ8",
        "outputId": "027dbdd0-ae70-4db2-f4a9-53b671281478"
      },
      "execution_count": 10,
      "outputs": [
        {
          "output_type": "stream",
          "name": "stdout",
          "text": [
            "<class 'float'>\n",
            "<class 'int'>\n"
          ]
        }
      ]
    },
    {
      "cell_type": "code",
      "source": [
        "#integers\n",
        "x = 1\n",
        "print (type(x))"
      ],
      "metadata": {
        "colab": {
          "base_uri": "https://localhost:8080/"
        },
        "id": "l8V58Rs0o2qv",
        "outputId": "18f81f00-d2e8-47b2-9f4a-451d0fd4f4fe"
      },
      "execution_count": 11,
      "outputs": [
        {
          "output_type": "stream",
          "name": "stdout",
          "text": [
            "<class 'int'>\n"
          ]
        }
      ]
    },
    {
      "cell_type": "code",
      "source": [
        "# float\n",
        "x = 1.0\n",
        "print (type(x))"
      ],
      "metadata": {
        "colab": {
          "base_uri": "https://localhost:8080/"
        },
        "id": "4VcFRFpKo6i4",
        "outputId": "078d3751-58d6-4620-8c1c-4fee4c5fecaf"
      },
      "execution_count": 12,
      "outputs": [
        {
          "output_type": "stream",
          "name": "stdout",
          "text": [
            "<class 'float'>\n"
          ]
        }
      ]
    },
    {
      "cell_type": "code",
      "source": [
        "# boolean\n",
        "b1 = True\n",
        "b2 = False\n",
        "\n",
        "print (type(b1))"
      ],
      "metadata": {
        "colab": {
          "base_uri": "https://localhost:8080/"
        },
        "id": "-MQC4M57pBxP",
        "outputId": "6d3ed14e-6a5c-4c2a-bc5c-5abd1458c8fa"
      },
      "execution_count": 13,
      "outputs": [
        {
          "output_type": "stream",
          "name": "stdout",
          "text": [
            "<class 'bool'>\n"
          ]
        }
      ]
    },
    {
      "cell_type": "code",
      "source": [
        "# complex numbers: note the use of `j` to specify the imaginary part\n",
        "x = 1.0 - 1.0j\n",
        "print (type(x))"
      ],
      "metadata": {
        "colab": {
          "base_uri": "https://localhost:8080/"
        },
        "id": "-aIoz8n6pFco",
        "outputId": "4a11c797-aace-4f27-8f44-625b43c041c7"
      },
      "execution_count": 14,
      "outputs": [
        {
          "output_type": "stream",
          "name": "stdout",
          "text": [
            "<class 'complex'>\n"
          ]
        }
      ]
    },
    {
      "cell_type": "code",
      "source": [
        "print(x)\n",
        "print(x.real, x.imag)"
      ],
      "metadata": {
        "colab": {
          "base_uri": "https://localhost:8080/"
        },
        "id": "LGXGXrG_pLRY",
        "outputId": "34dfc5d9-99a7-449d-843f-d5ff70cea6ef"
      },
      "execution_count": 15,
      "outputs": [
        {
          "output_type": "stream",
          "name": "stdout",
          "text": [
            "(1-1j)\n",
            "1.0 -1.0\n"
          ]
        }
      ]
    },
    {
      "cell_type": "markdown",
      "source": [
        "Check if the certain variable is int or float"
      ],
      "metadata": {
        "id": "Wkb32ORjpSxo"
      }
    },
    {
      "cell_type": "code",
      "source": [
        "x= 5\n",
        "print (type(x) is int)"
      ],
      "metadata": {
        "colab": {
          "base_uri": "https://localhost:8080/"
        },
        "id": "aGDuWjg7pM3P",
        "outputId": "26f49f74-eb4e-4b36-d24d-3551f6f8fb70"
      },
      "execution_count": 16,
      "outputs": [
        {
          "output_type": "stream",
          "name": "stdout",
          "text": [
            "True\n"
          ]
        }
      ]
    },
    {
      "cell_type": "code",
      "source": [
        "x= 5.0\n",
        "print (type(x) is int)"
      ],
      "metadata": {
        "colab": {
          "base_uri": "https://localhost:8080/"
        },
        "id": "ovxqjIU8pX7g",
        "outputId": "6be02b29-9218-4980-cc8a-0133628886d8"
      },
      "execution_count": 17,
      "outputs": [
        {
          "output_type": "stream",
          "name": "stdout",
          "text": [
            "False\n"
          ]
        }
      ]
    },
    {
      "cell_type": "markdown",
      "source": [
        "We can also use the isinstance method for testing types of variables:"
      ],
      "metadata": {
        "id": "tLIYqcLcpbgv"
      }
    },
    {
      "cell_type": "code",
      "source": [
        "print (isinstance(x, float))"
      ],
      "metadata": {
        "colab": {
          "base_uri": "https://localhost:8080/"
        },
        "id": "y6dXSGUDpfiX",
        "outputId": "6225bbc3-960e-484e-9f3c-5e34e8805d64"
      },
      "execution_count": 18,
      "outputs": [
        {
          "output_type": "stream",
          "name": "stdout",
          "text": [
            "True\n"
          ]
        }
      ]
    },
    {
      "cell_type": "markdown",
      "source": [
        "# Type casting\n",
        "Typecasting in Python refers to the process of converting a variable from one data type to another. Python provides several built-in functions for typecasting. Here are some common typecasting functions:"
      ],
      "metadata": {
        "id": "mEnIHJDZplQv"
      }
    },
    {
      "cell_type": "code",
      "source": [
        "# int(x)\n",
        "\n",
        "float_num = 3.14\n",
        "int_num = int(float_num)\n",
        "print(int_num)"
      ],
      "metadata": {
        "colab": {
          "base_uri": "https://localhost:8080/"
        },
        "id": "AlcBGCzqpmkw",
        "outputId": "20f676e8-d95f-4c96-b9f3-2be7301aafd6"
      },
      "execution_count": 19,
      "outputs": [
        {
          "output_type": "stream",
          "name": "stdout",
          "text": [
            "3\n"
          ]
        }
      ]
    },
    {
      "cell_type": "code",
      "source": [
        "# float(x)\n",
        "\n",
        "int_num = 5\n",
        "float_num = float(int_num)\n",
        "print(float_num)"
      ],
      "metadata": {
        "colab": {
          "base_uri": "https://localhost:8080/"
        },
        "id": "PQbixXTVprLa",
        "outputId": "dcf5f91e-c425-4859-ec26-323056d471b6"
      },
      "execution_count": 20,
      "outputs": [
        {
          "output_type": "stream",
          "name": "stdout",
          "text": [
            "5.0\n"
          ]
        }
      ]
    },
    {
      "cell_type": "code",
      "source": [
        "# bool(x)\n",
        "\n",
        "number = 0\n",
        "bool_value = bool(number)\n",
        "print(bool_value)"
      ],
      "metadata": {
        "colab": {
          "base_uri": "https://localhost:8080/"
        },
        "id": "qMpIHWFlpv4d",
        "outputId": "a766e091-6acf-452b-fe84-5fb99de382b4"
      },
      "execution_count": 21,
      "outputs": [
        {
          "output_type": "stream",
          "name": "stdout",
          "text": [
            "False\n"
          ]
        }
      ]
    },
    {
      "cell_type": "code",
      "source": [
        "#list(x)\n",
        "\n",
        "string = \"hello\"\n",
        "list_chars = list(string)\n",
        "print(list_chars)"
      ],
      "metadata": {
        "colab": {
          "base_uri": "https://localhost:8080/"
        },
        "id": "osexJpaXpyN4",
        "outputId": "4143aa13-0a28-436e-85a5-0d2cb75964b2"
      },
      "execution_count": 22,
      "outputs": [
        {
          "output_type": "stream",
          "name": "stdout",
          "text": [
            "['h', 'e', 'l', 'l', 'o']\n"
          ]
        }
      ]
    },
    {
      "cell_type": "markdown",
      "source": [
        "Complex variables cannot be cast to floats or integers. We need to use `z.real` or `z.imag` to extract the part of the complex number we want:"
      ],
      "metadata": {
        "id": "SGHnuC_Ap6Dg"
      }
    },
    {
      "cell_type": "code",
      "source": [
        "z = 3 + 4.2j\n",
        "float_z= float(z.real)\n",
        "int_z  = int(z.imag)\n",
        "print(float_z, int_z)"
      ],
      "metadata": {
        "id": "FhoH0y0Vp7D3"
      },
      "execution_count": null,
      "outputs": []
    },
    {
      "cell_type": "markdown",
      "source": [
        "## Strings\n",
        "Strings are the variable type that is used for storing text messages."
      ],
      "metadata": {
        "id": "NBD4trYmqDNv"
      }
    },
    {
      "cell_type": "code",
      "source": [
        "s = \"Hello world\"\n",
        "print (type(s))"
      ],
      "metadata": {
        "colab": {
          "base_uri": "https://localhost:8080/"
        },
        "id": "zc5OGfA1qFx_",
        "outputId": "112be1dc-3f8c-450b-abfa-5ac621d653a4"
      },
      "execution_count": 23,
      "outputs": [
        {
          "output_type": "stream",
          "name": "stdout",
          "text": [
            "<class 'str'>\n"
          ]
        }
      ]
    },
    {
      "cell_type": "code",
      "source": [
        "# length of the string: the number of characters\n",
        "print (len(s))"
      ],
      "metadata": {
        "colab": {
          "base_uri": "https://localhost:8080/"
        },
        "id": "yqW4CWz_qN5o",
        "outputId": "9517d3b0-b944-42fd-ae13-14b260155806"
      },
      "execution_count": 24,
      "outputs": [
        {
          "output_type": "stream",
          "name": "stdout",
          "text": [
            "11\n"
          ]
        }
      ]
    },
    {
      "cell_type": "code",
      "source": [
        "# replace a substring in a string with somethign else\n",
        "s2 = s.replace(\"world\", \"test\")\n",
        "print (s2)"
      ],
      "metadata": {
        "colab": {
          "base_uri": "https://localhost:8080/"
        },
        "id": "5aS-g_JVqQQW",
        "outputId": "139ad409-24f9-40e0-c823-90d4f6cd7fa7"
      },
      "execution_count": 25,
      "outputs": [
        {
          "output_type": "stream",
          "name": "stdout",
          "text": [
            "Hello test\n"
          ]
        }
      ]
    },
    {
      "cell_type": "markdown",
      "source": [
        "We can index a character in a string using `[]`:\n",
        "\n",
        "Indexing starts with 0\n",
        "\n",
        "We can extract a part of a string using the syntax `[start:stop]`, which extracts characters between index `start` and `stop` -1 (the character at index `stop` is not included):"
      ],
      "metadata": {
        "id": "wg_YrEacqYI4"
      }
    },
    {
      "cell_type": "code",
      "source": [
        "print (s[0])"
      ],
      "metadata": {
        "colab": {
          "base_uri": "https://localhost:8080/"
        },
        "id": "JmluQTREqZ0K",
        "outputId": "7198449e-92ea-4487-e3a9-29693db7bd06"
      },
      "execution_count": 26,
      "outputs": [
        {
          "output_type": "stream",
          "name": "stdout",
          "text": [
            "H\n"
          ]
        }
      ]
    },
    {
      "cell_type": "code",
      "source": [
        "print (s[0:4])"
      ],
      "metadata": {
        "colab": {
          "base_uri": "https://localhost:8080/"
        },
        "id": "YwQH4_bgqegP",
        "outputId": "4dc5573b-0fa8-468b-a047-90846aee2257"
      },
      "execution_count": 27,
      "outputs": [
        {
          "output_type": "stream",
          "name": "stdout",
          "text": [
            "Hell\n"
          ]
        }
      ]
    },
    {
      "cell_type": "code",
      "source": [
        "print (s[4:5])"
      ],
      "metadata": {
        "colab": {
          "base_uri": "https://localhost:8080/"
        },
        "id": "D8dMRZWyqiyG",
        "outputId": "2c0bee58-c208-49d4-a2c8-daf2337d0818"
      },
      "execution_count": 28,
      "outputs": [
        {
          "output_type": "stream",
          "name": "stdout",
          "text": [
            "o\n"
          ]
        }
      ]
    },
    {
      "cell_type": "markdown",
      "source": [
        "If we omit either (or both) of `start` or `stop` from `[start:stop]`, the default is the beginning and the end of the string, respectively:"
      ],
      "metadata": {
        "id": "Y2RQkDxkqqCx"
      }
    },
    {
      "cell_type": "code",
      "source": [
        "print (s[:5])"
      ],
      "metadata": {
        "colab": {
          "base_uri": "https://localhost:8080/"
        },
        "id": "xOkMZeRvqq0d",
        "outputId": "cea80948-6805-401b-d5e5-7e5f84aef1c0"
      },
      "execution_count": 29,
      "outputs": [
        {
          "output_type": "stream",
          "name": "stdout",
          "text": [
            "Hello\n"
          ]
        }
      ]
    },
    {
      "cell_type": "code",
      "source": [
        "print (s[6:])"
      ],
      "metadata": {
        "colab": {
          "base_uri": "https://localhost:8080/"
        },
        "id": "1TNEC1_ZquTu",
        "outputId": "9f8d70ee-2c56-4d2f-cf7e-52a9d510d150"
      },
      "execution_count": 30,
      "outputs": [
        {
          "output_type": "stream",
          "name": "stdout",
          "text": [
            "world\n"
          ]
        }
      ]
    },
    {
      "cell_type": "code",
      "source": [
        "print  (s[:])"
      ],
      "metadata": {
        "colab": {
          "base_uri": "https://localhost:8080/"
        },
        "id": "XJ_0f2-qq4UZ",
        "outputId": "da05bda9-0d24-4633-9e82-0e7d0704846b"
      },
      "execution_count": 31,
      "outputs": [
        {
          "output_type": "stream",
          "name": "stdout",
          "text": [
            "Hello world\n"
          ]
        }
      ]
    },
    {
      "cell_type": "markdown",
      "source": [
        "\n",
        "We can also define the step size using the syntax [start:end:step] (the default value for step is 1, as we saw above)\n",
        "\n",
        "This technique is called slicing. Read more about the syntax here: http://docs.python.org/release/2.7.3/library/functions.html?highlight=slice#slice"
      ],
      "metadata": {
        "id": "eKut2cgZq819"
      }
    },
    {
      "cell_type": "code",
      "source": [
        "print (s[::2])\n",
        "print (s[:2:1])"
      ],
      "metadata": {
        "colab": {
          "base_uri": "https://localhost:8080/"
        },
        "id": "xVzFvHHnrANn",
        "outputId": "fe44632a-2092-4e72-c961-37ef0c04f093"
      },
      "execution_count": 32,
      "outputs": [
        {
          "output_type": "stream",
          "name": "stdout",
          "text": [
            "Hlowrd\n",
            "He\n"
          ]
        }
      ]
    },
    {
      "cell_type": "code",
      "source": [
        "print (\"str1\", \"str2\", \"str3\")  # The print statement concatenates strings with a space"
      ],
      "metadata": {
        "colab": {
          "base_uri": "https://localhost:8080/"
        },
        "id": "clUTPP8krZnI",
        "outputId": "0efdccfd-3926-46c4-de01-f0b61c3efe0a"
      },
      "execution_count": 33,
      "outputs": [
        {
          "output_type": "stream",
          "name": "stdout",
          "text": [
            "str1 str2 str3\n"
          ]
        }
      ]
    },
    {
      "cell_type": "code",
      "source": [
        "print (\"str1\", 1.0, False, -1j)  # The print statements converts all arguments to strings"
      ],
      "metadata": {
        "colab": {
          "base_uri": "https://localhost:8080/"
        },
        "id": "oJSwS31Mrh7s",
        "outputId": "307a9d40-9b0c-419d-f6c1-84a7492d1773"
      },
      "execution_count": 34,
      "outputs": [
        {
          "output_type": "stream",
          "name": "stdout",
          "text": [
            "str1 1.0 False (-0-1j)\n"
          ]
        }
      ]
    },
    {
      "cell_type": "code",
      "source": [
        "print (\"str1\" + \"str2\" + \"str3\") # strings added with + are concatenated without space"
      ],
      "metadata": {
        "colab": {
          "base_uri": "https://localhost:8080/"
        },
        "id": "N2R4AwFwrlpA",
        "outputId": "95a011a2-3570-458f-e2a6-9cc218dd4ede"
      },
      "execution_count": 35,
      "outputs": [
        {
          "output_type": "stream",
          "name": "stdout",
          "text": [
            "str1str2str3\n"
          ]
        }
      ]
    },
    {
      "cell_type": "markdown",
      "source": [
        "##Zen of Python\n",
        "The Zen of Python is a collection of guiding principles for writing computer programs in Python. It’s like Python’s philosophy, written as short, witty aphorisms by Tim Peters."
      ],
      "metadata": {
        "id": "nS0OWVIFshk2"
      }
    },
    {
      "cell_type": "code",
      "source": [
        "import this"
      ],
      "metadata": {
        "colab": {
          "base_uri": "https://localhost:8080/"
        },
        "id": "t9iKeI6isrqd",
        "outputId": "0ab41d49-afef-4b5a-c058-5fdfd5326086"
      },
      "execution_count": 36,
      "outputs": [
        {
          "output_type": "stream",
          "name": "stdout",
          "text": [
            "The Zen of Python, by Tim Peters\n",
            "\n",
            "Beautiful is better than ugly.\n",
            "Explicit is better than implicit.\n",
            "Simple is better than complex.\n",
            "Complex is better than complicated.\n",
            "Flat is better than nested.\n",
            "Sparse is better than dense.\n",
            "Readability counts.\n",
            "Special cases aren't special enough to break the rules.\n",
            "Although practicality beats purity.\n",
            "Errors should never pass silently.\n",
            "Unless explicitly silenced.\n",
            "In the face of ambiguity, refuse the temptation to guess.\n",
            "There should be one-- and preferably only one --obvious way to do it.\n",
            "Although that way may not be obvious at first unless you're Dutch.\n",
            "Now is better than never.\n",
            "Although never is often better than *right* now.\n",
            "If the implementation is hard to explain, it's a bad idea.\n",
            "If the implementation is easy to explain, it may be a good idea.\n",
            "Namespaces are one honking great idea -- let's do more of those!\n"
          ]
        }
      ]
    },
    {
      "cell_type": "markdown",
      "source": [
        "##Mathematical built-in functions"
      ],
      "metadata": {
        "id": "Q74b1jrfs5Gb"
      }
    },
    {
      "cell_type": "code",
      "source": [
        "print(abs(-5))            # 5\n",
        "print(round(3.75, 1))     # 3.8\n",
        "print(pow(2, 3))          # 8\n",
        "print(divmod(7, 3))       # (2, 1)\n",
        "print(min(3, 1, 2))       # 1\n",
        "print(max(3, 1, 2))       # 3\n",
        "print(sum([1,2,3]))       # 6"
      ],
      "metadata": {
        "colab": {
          "base_uri": "https://localhost:8080/"
        },
        "id": "-71VwmCxs-LL",
        "outputId": "67636caa-876a-4284-d114-873e38ac32b5"
      },
      "execution_count": 37,
      "outputs": [
        {
          "output_type": "stream",
          "name": "stdout",
          "text": [
            "5\n",
            "3.8\n",
            "8\n",
            "(2, 1)\n",
            "1\n",
            "3\n",
            "6\n"
          ]
        }
      ]
    }
  ]
}