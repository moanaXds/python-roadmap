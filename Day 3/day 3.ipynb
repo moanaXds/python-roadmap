{
 "cells": [
  {
   "cell_type": "code",
   "execution_count": 98,
   "id": "17d54c01-034c-4fdf-a32f-d7a8f6b780a9",
   "metadata": {},
   "outputs": [
    {
     "name": "stdout",
     "output_type": "stream",
     "text": [
      "Welcome to our Store!\n",
      "Here are the available products:\n",
      "Sabzi\n",
      "Goosht\n",
      "Rice\n",
      "Fruits\n",
      "Enter 'q' to exit\n",
      "\n"
     ]
    },
    {
     "name": "stdin",
     "output_type": "stream",
     "text": [
      "Enter product number:  3\n"
     ]
    },
    {
     "name": "stdout",
     "output_type": "stream",
     "text": [
      "Rice added to your cart\n",
      "\n",
      "Enter 'q' to exit\n",
      "\n"
     ]
    },
    {
     "name": "stdin",
     "output_type": "stream",
     "text": [
      "Enter product number:  q\n"
     ]
    },
    {
     "name": "stdout",
     "output_type": "stream",
     "text": [
      "\n",
      "Your Shopping Cart:\n",
      "\n",
      "- Rice\n",
      "Thank you for shopping from us!\n"
     ]
    }
   ],
   "source": [
    "shopping_cart = []  \n",
    "products = [\"Sabzi\",\"Goosht\",\"Rice\",\"Fruits\"]\n",
    "\n",
    "print(\"Welcome to our Store!\")\n",
    "\n",
    "print(\"Here are the available products:\")\n",
    "\n",
    "for i in range(len(products)):\n",
    "        print(products[i])\n",
    "    \n",
    "while True:\n",
    "    \n",
    "    print(\"Enter 'q' to exit\\n\")\n",
    "\n",
    "    choice = input(\"Enter product number: \")\n",
    "\n",
    "    if choice == \"q\":\n",
    "        break\n",
    "\n",
    "    choice = int(choice)  \n",
    "    \n",
    "    shopping_cart.append(products[choice-1])  # Add product\n",
    "    \n",
    "    print(products[choice - 1], \"added to your cart\\n\")\n",
    "\n",
    "\n",
    "print(\"\\n\\nYour shopping ceart:\\n\")\n",
    "\n",
    "for item in shopping_cart:\n",
    "    print(\"-\", item)\n",
    "\n",
    "print(\"Thank you for shopping from us!\")\n"
   ]
  },
  {
   "cell_type": "code",
   "execution_count": 38,
   "id": "a34d6290-7b23-4718-9b19-c922831e6ca7",
   "metadata": {},
   "outputs": [
    {
     "name": "stdin",
     "output_type": "stream",
     "text": [
      "Press 'exit' to exit \n",
      "Enter the Key as\n"
     ]
    },
    {
     "name": "stdout",
     "output_type": "stream",
     "text": [
      "NOT MATCHING\n"
     ]
    },
    {
     "name": "stdin",
     "output_type": "stream",
     "text": [
      "Press 'exit' to exit \n",
      "Enter the Key exit\n"
     ]
    }
   ],
   "source": [
    "Dictionary={\n",
    "    \"hi\":\"haskj\",\n",
    "    \"hello\":\"ash\",\n",
    "    \"What\":\"asjk\"\n",
    "}\n",
    "\n",
    "while(True):\n",
    "    \n",
    "    val=input(\"Press 'exit' to exit \\nEnter the Key\")\n",
    "\n",
    "    if(val==\"exit\"):\n",
    "        break\n",
    "        \n",
    "    elif(val in Dictionary):\n",
    "        print(Dictionary[val])\n",
    "        \n",
    "    else:\n",
    "        print(\"NOT MATCHING\")\n",
    "        \n",
    "    \n",
    "    "
   ]
  },
  {
   "cell_type": "code",
   "execution_count": 68,
   "id": "640e31dc-d471-4a1a-ac8e-348669d8e6d8",
   "metadata": {},
   "outputs": [
    {
     "name": "stdout",
     "output_type": "stream",
     "text": [
      "TITLE\n",
      "PF\n",
      "UPDATED CREDITS\n",
      "2\n",
      "ADD KEY VALUE\n",
      "{'Faculty of scienc': {'Dep of CS': {'BS programs': {'Semester 1': {'Courses': {'CS10': {'title': 'PF', 'Hrs': 2}}, 'GPA': 2.1}}}}}\n",
      "Outside Dictionary\n"
     ]
    }
   ],
   "source": [
    "Dictionary={\n",
    "    \"Faculty of scienc\":{\n",
    "        \"Dep of CS\":{\n",
    "            \"BS programs\":{\n",
    "                \"Semester 1\":{\n",
    "                    \"Courses\":{\n",
    "                        \"CS10\":{\n",
    "                            \"title\":\"PF\",\n",
    "                            \"Hrs\":3\n",
    "                        }\n",
    "                    }\n",
    "                }\n",
    "            }\n",
    "            \n",
    "        }\n",
    "    }\n",
    "}\n",
    "\n",
    "print(\"TITLE\")\n",
    "print(Dictionary[\"Faculty of scienc\"][\"Dep of CS\"][\"BS programs\"][\"Semester 1\"][\"Courses\"][\"CS10\"][\"title\"])\n",
    "Dictionary[\"Faculty of scienc\"][\"Dep of CS\"][\"BS programs\"][\"Semester 1\"][\"Courses\"][\"CS10\"][\"Hrs\"] = 2\n",
    "\n",
    "print(\"UPDATED CREDITS\")\n",
    "print(Dictionary[\"Faculty of scienc\"][\"Dep of CS\"][\"BS programs\"][\"Semester 1\"][\"Courses\"][\"CS10\"][\"Hrs\"])\n",
    "\n",
    "print(\"ADD KEY VALUE\")\n",
    "Dictionary[\"Faculty of scienc\"][\"Dep of CS\"][\"BS programs\"][\"Semester 1\"][\"GPA\"] = 2.1\n",
    "print(Dictionary)\n",
    "\n",
    "try:\n",
    "    print(Dictionary[\"Faculty of scienc\"][\"Dep of CS\"][\"BS programs\"][\"Semester 1\"][\"Courses\"][\"CS10\"][\"cls\"])\n",
    "except:\n",
    "    print(\"Outside Dictionary\")"
   ]
  },
  {
   "cell_type": "code",
   "execution_count": 5,
   "id": "370f5d84-85c9-46d3-a50a-2dc2ae9f980b",
   "metadata": {},
   "outputs": [
    {
     "name": "stdout",
     "output_type": "stream",
     "text": [
      "important\n",
      "Promotion\n",
      "None\n"
     ]
    }
   ],
   "source": [
    "def classify_email(lists=[]):\n",
    "    \n",
    "    for keyword in lists:\n",
    "        if(keyword==\"important\"):\n",
    "            return \"important\"\n",
    "        elif(keyword==\"promotion\"):\n",
    "            return \"Promotion\"\n",
    "        elif(keyword==\"Spam\"):\n",
    "            return \"Spam\"\n",
    "\n",
    "\n",
    "\n",
    "lists=[\"Ready\", \"for \",\"important\",\"discussion\"]\n",
    "print(classify_email(lists))\n",
    "\n",
    "lists1=[\"Ready\" ,\"for\", \"promotion\"]\n",
    "print(classify_email(lists1))\n",
    "\n",
    "lists3=[\"it\",\"is\" ,\"spam\"]\n",
    "print(classify_email(lists3))"
   ]
  },
  {
   "cell_type": "code",
   "execution_count": 30,
   "id": "de2f7651-be37-4512-b0d8-72f1b9a8c252",
   "metadata": {},
   "outputs": [
    {
     "name": "stdin",
     "output_type": "stream",
     "text": [
      "Enter the title as\n",
      "Enter the author sa\n",
      "Enter the quantity 123\n",
      "Enter the price 21\n"
     ]
    },
    {
     "name": "stdout",
     "output_type": "stream",
     "text": [
      "done successfully!!\n"
     ]
    },
    {
     "name": "stdin",
     "output_type": "stream",
     "text": [
      "Enter the title you wanna search as\n"
     ]
    },
    {
     "name": "stdout",
     "output_type": "stream",
     "text": [
      "Found : {'title': 'as', 'author': 'sa', 'quantity': 123, 'price': 21}\n"
     ]
    },
    {
     "name": "stdin",
     "output_type": "stream",
     "text": [
      "Enter the title you wanna update as\n",
      "Enter the new quantity 123\n"
     ]
    },
    {
     "name": "stdout",
     "output_type": "stream",
     "text": [
      "as\n",
      "sa\n",
      "123\n",
      "21\n",
      "\n",
      "Total revenue :  2583\n",
      "no out of bound\n"
     ]
    }
   ],
   "source": [
    "inventry=[]\n",
    "\n",
    "def add_book_to_inventry():\n",
    "    books={}\n",
    "    books ['title']=input(\"Enter the title\")\n",
    "    books ['author']=input(\"Enter the author\")\n",
    "    books ['quantity']=int(input(\"Enter the quantity\"))\n",
    "    books ['price']=int(input(\"Enter the price\"))\n",
    "    inventry.append(books)\n",
    "    print(\"done successfully!!\")\n",
    "\n",
    "def search_the_inventry():\n",
    "    name=input(\"Enter the title you wanna search\")\n",
    "    for books in inventry:\n",
    "        if(name==books['title']):\n",
    "            print(\"Found :\", books)\n",
    "            return\n",
    "        print(\"not found\")\n",
    "\n",
    "def update():\n",
    "    name=input(\"Enter the title you wanna update\")\n",
    "    for books in inventry:\n",
    "        if(books ['title']==name):\n",
    "            books['quantity']=int(input(\"Enter the new quantity\"))\n",
    "            return\n",
    "\n",
    "def revenue():\n",
    "    revenue=0\n",
    "    for books in inventry:\n",
    "        revenue=revenue+ books ['quantity']*books ['price']\n",
    "    print(\"\\nTotal revenue : \",revenue)\n",
    "    return revenue\n",
    "\n",
    "def display():\n",
    "    for books in inventry:\n",
    "        print(books ['title'])\n",
    "        print(books['author'])\n",
    "        print(books['quantity'])\n",
    "        print(books['price'])\n",
    "    revenue()\n",
    "    outof_stock()\n",
    "    return\n",
    "\n",
    "def outof_stock():\n",
    "    check =False\n",
    "    \n",
    "    for books in inventry:\n",
    "        if(books ['quantity']==0):\n",
    "            if not check:\n",
    "                print(\"out of bound\")\n",
    "                check=True\n",
    "            print(books ['title'])\n",
    "    if not check:\n",
    "        print(\"no out of bound\")\n",
    "            \n",
    "\n",
    "\n",
    "    \n",
    "add_book_to_inventry()\n",
    "search_the_inventry()\n",
    "update()\n",
    "display()"
   ]
  },
  {
   "cell_type": "code",
   "execution_count": null,
   "id": "3acc5ee9-5f4f-4021-8260-44131add61aa",
   "metadata": {},
   "outputs": [],
   "source": [
    "student=[[\"alice\",[89,23,45]]]\n",
    "\n",
    "def decalaration():\n",
    "    for i in range(3):\n",
    "        name = input(f\"Enter name of student: {i+1}\")\n",
    "        no = int(input(f\"Enter score of students: {name}\"))\n",
    "        student.append([name,[no]])\n",
    "    \n",
    "\n",
    "def Display():\n",
    "    print(\"\\ndata of all student:\\n\")\n",
    "    for st in student:\n",
    "        print(st[0],\": and :\",st[1])\n",
    "\n",
    "def highestScore():\n",
    "    highest=0\n",
    "    for st in student:\n",
    "        for score in st[1]:\n",
    "            if(highest<score):\n",
    "                highest=score\n",
    "            \n",
    "    print (\"Highest score :\",highest)\n",
    "\n",
    "def average():\n",
    "    for st in student:\n",
    "        avg=sum(st[1])/len(st[1])  # st[1]==score\n",
    "        print(\"Average : \",avg)\n",
    "\n",
    "def lowest_average():\n",
    "    firstname = student[0][0]\n",
    "    firstavg = sum(student[0][1]) / len(student[0][1])\n",
    "    \n",
    "    for st in student:\n",
    "        avg = sum(st[1]) / len(st[1])\n",
    "        if avg < firstavg:\n",
    "            firstavg = avg\n",
    "            firstname = st[0]\n",
    "    \n",
    "    print(\"Student with lowest average:\", firstname)\n",
    "\n",
    "def updateScore():\n",
    "    name = input(\"Enter name to update scoree\")\n",
    "    for st in student:\n",
    "        if(st[0]==name):\n",
    "            newscore=int(input(\"Enter the new score to add\"))\n",
    "            st[1].append(newscore)\n",
    "            print(\"updated\\n\")\n",
    "            return\n",
    "    print(\"Enter correct name\")\n",
    "\n",
    "\n",
    "def updateSpecificScore():\n",
    "    name = input(\"Enter student name: \")\n",
    "    found = False\n",
    "    for s in student:\n",
    "        if (s[0] == name):\n",
    "            found = True \n",
    "            print(\"Scores  : \", s[1])\n",
    "            index = int(input(\"Enter score number to change\")) - 1\n",
    "            \n",
    "            if index >= 0 and index < len(s[1]):\n",
    "                scorenew = int(input(\"Enter new score: \"))\n",
    "                s[1][index] = scorenew\n",
    "                print(\"Score updated.\")\n",
    "            else:\n",
    "                print(\"Invalid score number.\")\n",
    "            break\n",
    "    if not found:\n",
    "        print(\"Student not found!\")\n",
    "\n",
    "\n",
    "# 2. Sort students by average (manual)\n",
    "def sortByAverage():\n",
    "    print(\"\\nStudents by average:\")\n",
    "    # Make a simple copy of student list with averages\n",
    "    avglist = []\n",
    "    for s in student:\n",
    "        avg = sum(s[1]) / len(s[1])\n",
    "        avglist.append([s[0], avg, s[1]])\n",
    "\n",
    "    # Simple bubble sort\n",
    "    for i in range(len(avglist)):\n",
    "        for j in range(len(avglist) - 1):\n",
    "            if avglist[j][1] > avglist[j+1][1]:\n",
    "                avglist[j], avglist[j+1] = avglist[j+1], avglist[j]\n",
    "\n",
    "    for s in avglist:\n",
    "        print(s[0], \"Average:\", s[1])\n",
    "\n",
    "\n",
    "def sortByName():\n",
    "    print(\"\\nStudents by name:\")\n",
    "    namewise = student[:] \n",
    "\n",
    "   \n",
    "    for i in range(len(namewise)):\n",
    "        for j in range(len(namewise) - 1):\n",
    "            if namewise[j][0] > namewise[j+1][0]:\n",
    "                namewise[j], namewise[j+1] = namewise[j+1], namewise[j]\n",
    "\n",
    "    for s in namewise:\n",
    "        print(s[0], \":\", s[1])\n",
    "\n",
    "\n",
    "def searchStudent():\n",
    "    name = input(\"Enter student name: \")\n",
    "    found = False\n",
    "    for s in student:\n",
    "        if s[0] == name:\n",
    "            avg = sum(s[1]) / len(s[1])\n",
    "            print(\"Scores:\", s[1])\n",
    "            print(\"Average:\", avg)\n",
    "            found = True\n",
    "            break\n",
    "    if not found:\n",
    "        print(\"Student not found!\")\n",
    "\n",
    "decalaration()\n",
    "Display()\n",
    "highestScore()\n",
    "average()\n",
    "lowest_average()\n",
    "updateScore()\n",
    "Display()\n",
    "updateSpecificScore()\n",
    "sortByAverage()\n",
    "sortByName()\n",
    "searchStudent()"
   ]
  },
  {
   "cell_type": "code",
   "execution_count": 102,
   "id": "282dcb6d-127e-403e-bf43-6c18b29e16bf",
   "metadata": {},
   "outputs": [
    {
     "name": "stdin",
     "output_type": "stream",
     "text": [
      "Enter the first number:  1\n",
      "Enter the second number:  0\n"
     ]
    },
    {
     "name": "stdout",
     "output_type": "stream",
     "text": [
      "Error: Cannot divide by zero.\n",
      "program finished.\n"
     ]
    }
   ],
   "source": [
    "try:\n",
    "    num1 = input(\"Enter the first number: \")\n",
    "    num2 = input(\"Enter the second number: \")\n",
    "\n",
    "    num1 = float(num1)\n",
    "    num2 = float(num2)\n",
    "\n",
    "    result = num1 / num2\n",
    "    print(\"Division successful, result = \",result)\n",
    "\n",
    "# must be a value\n",
    "except ValueError:\n",
    "    print(\"Error: Please enter a valid number.\")\n",
    "\n",
    "# don't /0\n",
    "except ZeroDivisionError:\n",
    "    print(\"Error: Cannot divide by zero.\")\n",
    "\n",
    "# type errors\n",
    "except TypeError:\n",
    "    print(\"Error: Invalid type for division.\")\n",
    "\n",
    "# any random error\n",
    "except Exception as e:\n",
    "    print(\"unexpected error:\", e)\n",
    "\n",
    "finally:\n",
    "    print(\"program finished.\")\n"
   ]
  },
  {
   "cell_type": "code",
   "execution_count": 103,
   "id": "2b0ffd30-ec40-4c62-9275-89681066187f",
   "metadata": {},
   "outputs": [
    {
     "name": "stdin",
     "output_type": "stream",
     "text": [
      "Enter a number:  s\n"
     ]
    },
    {
     "name": "stdout",
     "output_type": "stream",
     "text": [
      "error: could not convert string to float: 's'\n",
      "Program finished.\n"
     ]
    }
   ],
   "source": [
    "try:\n",
    "    num = float(input(\"Enter a number: \"))\n",
    "\n",
    "    if (num<0):\n",
    "        raise ValueError(\"Negative numbers are not allowed!\")\n",
    "        \n",
    "    print(\"Valid input received.\")\n",
    "\n",
    "except ValueError as e:\n",
    "    print(\"error:\", e)\n",
    "\n",
    "except Exception as e:\n",
    "    print(\"Unexpected error:\", e)\n",
    "\n",
    "finally:\n",
    "    print(\"Program finished.\")\n"
   ]
  },
  {
   "cell_type": "code",
   "execution_count": null,
   "id": "23ae880d-ef41-455b-88e4-0922348197bb",
   "metadata": {},
   "outputs": [],
   "source": []
  }
 ],
 "metadata": {
  "kernelspec": {
   "display_name": "Python 3 (ipykernel)",
   "language": "python",
   "name": "python3"
  },
  "language_info": {
   "codemirror_mode": {
    "name": "ipython",
    "version": 3
   },
   "file_extension": ".py",
   "mimetype": "text/x-python",
   "name": "python",
   "nbconvert_exporter": "python",
   "pygments_lexer": "ipython3",
   "version": "3.13.5"
  },
  "widgets": {
   "application/vnd.jupyter.widget-state+json": {
    "state": {},
    "version_major": 2,
    "version_minor": 0
   }
  }
 },
 "nbformat": 4,
 "nbformat_minor": 5
}
